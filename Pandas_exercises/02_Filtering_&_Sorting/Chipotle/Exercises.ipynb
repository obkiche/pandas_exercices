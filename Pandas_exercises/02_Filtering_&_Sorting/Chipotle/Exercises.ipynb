{
 "cells": [
  {
   "cell_type": "markdown",
   "metadata": {},
   "source": [
    "# Ex1 - Filtering and Sorting Data"
   ]
  },
  {
   "cell_type": "markdown",
   "metadata": {},
   "source": [
    "This time we are going to pull data directly from the internet.\n",
    "Special thanks to: https://github.com/justmarkham for sharing the dataset and materials.\n",
    "\n",
    "### Step 1. Import the necessary libraries"
   ]
  },
  {
   "cell_type": "code",
   "execution_count": 112,
   "metadata": {},
   "outputs": [],
   "source": [
    "import pandas as pd\n",
    "import numpy as np\n"
   ]
  },
  {
   "cell_type": "markdown",
   "metadata": {},
   "source": [
    "### Step 2. Import the dataset from this [address](https://raw.githubusercontent.com/justmarkham/DAT8/master/data/chipotle.tsv). "
   ]
  },
  {
   "cell_type": "markdown",
   "metadata": {},
   "source": [
    "### Step 3. Assign it to a variable called chipo."
   ]
  },
  {
   "cell_type": "code",
   "execution_count": 126,
   "metadata": {},
   "outputs": [
    {
     "name": "stdout",
     "output_type": "stream",
     "text": [
      "<class 'pandas.core.frame.DataFrame'>\n",
      "RangeIndex: 4622 entries, 0 to 4621\n",
      "Data columns (total 5 columns):\n",
      "order_id              4622 non-null int64\n",
      "quantity              4622 non-null int64\n",
      "item_name             4622 non-null object\n",
      "choice_description    3376 non-null object\n",
      "item_price            4622 non-null object\n",
      "dtypes: int64(2), object(3)\n",
      "memory usage: 180.6+ KB\n"
     ]
    }
   ],
   "source": [
    "link = 'https://raw.githubusercontent.com/justmarkham/DAT8/master/data/chipotle.tsv'\n",
    "\n",
    "chipo=pd.read_csv(link, ('\\t'))\n",
    "chipo.info()\n",
    "chipo.head(5)\n",
    "chipo['item_price'] = chipo['item_price'].str.slice(1).astype(float)"
   ]
  },
  {
   "cell_type": "markdown",
   "metadata": {},
   "source": [
    "### Step 4. How many products cost more than $10.00?"
   ]
  },
  {
   "cell_type": "code",
   "execution_count": 127,
   "metadata": {},
   "outputs": [
    {
     "name": "stdout",
     "output_type": "stream",
     "text": [
      "['Chicken Bowl' 'Steak Burrito' 'Chicken Burrito' 'Barbacoa Bowl'\n",
      " 'Veggie Burrito' 'Veggie Bowl' 'Chicken Soft Tacos' 'Steak Bowl'\n",
      " 'Carnitas Burrito' 'Carnitas Bowl' 'Barbacoa Burrito'\n",
      " 'Barbacoa Crispy Tacos' 'Veggie Salad Bowl' 'Chicken Salad'\n",
      " 'Chicken Crispy Tacos' 'Steak Salad Bowl' 'Veggie Soft Tacos'\n",
      " 'Barbacoa Soft Tacos' 'Carnitas Crispy Tacos' 'Carnitas Salad Bowl'\n",
      " 'Chicken Salad Bowl' 'Barbacoa Salad Bowl' 'Steak Soft Tacos'\n",
      " 'Carnitas Soft Tacos' 'Steak Crispy Tacos']\n"
     ]
    }
   ],
   "source": [
    "r = chipo['item_name'].unique()\n",
    "t = chipo.drop_duplicates( keep=False, inplace = True)\n",
    "chip = (chipo[(chipo['item_price'] >10) & (chipo['quantity'] == 1)])\n",
    "print(chip['item_name'].unique())\n",
    "\n",
    "\n",
    "#t = chipo.drop_duplicates(['item_name'], keep=False, inplace = True)\n",
    "\n",
    "\n"
   ]
  },
  {
   "cell_type": "markdown",
   "metadata": {},
   "source": [
    "### Step 5. What is the price of each item? \n",
    "###### print a data frame with only two columns item_name and item_price"
   ]
  },
  {
   "cell_type": "code",
   "execution_count": 116,
   "metadata": {},
   "outputs": [
    {
     "ename": "AttributeError",
     "evalue": "'list' object has no attribute 'unique'",
     "output_type": "error",
     "traceback": [
      "\u001b[1;31m---------------------------------------------------------------------------\u001b[0m",
      "\u001b[1;31mAttributeError\u001b[0m                            Traceback (most recent call last)",
      "\u001b[1;32m<ipython-input-116-2198373c562d>\u001b[0m in \u001b[0;36m<module>\u001b[1;34m()\u001b[0m\n\u001b[0;32m      1\u001b[0m \u001b[1;33m\u001b[0m\u001b[0m\n\u001b[1;32m----> 2\u001b[1;33m \u001b[0mchip\u001b[0m\u001b[1;33m[\u001b[0m\u001b[0mchip\u001b[0m\u001b[1;33m[\u001b[0m\u001b[1;33m[\u001b[0m\u001b[1;34m'item_name'\u001b[0m\u001b[1;33m]\u001b[0m\u001b[1;33m.\u001b[0m\u001b[0munique\u001b[0m\u001b[1;33m(\u001b[0m\u001b[1;33m)\u001b[0m\u001b[1;33m]\u001b[0m\u001b[1;33m,\u001b[0m \u001b[0mchip\u001b[0m\u001b[1;33m[\u001b[0m\u001b[1;34m'item_price'\u001b[0m\u001b[1;33m]\u001b[0m\u001b[1;33m]\u001b[0m\u001b[1;33m\u001b[0m\u001b[0m\n\u001b[0m",
      "\u001b[1;31mAttributeError\u001b[0m: 'list' object has no attribute 'unique'"
     ]
    }
   ],
   "source": [
    "\n",
    "chip[chip[['item_name'].unique()], chip['item_price']]\n"
   ]
  },
  {
   "cell_type": "markdown",
   "metadata": {},
   "source": [
    "### Step 6. Sort by the name of the item"
   ]
  },
  {
   "cell_type": "code",
   "execution_count": 117,
   "metadata": {},
   "outputs": [
    {
     "data": {
      "text/plain": [
       "3600    6 Pack Soft Drink\n",
       "1026    6 Pack Soft Drink\n",
       "1937    6 Pack Soft Drink\n",
       "1124    6 Pack Soft Drink\n",
       "341     6 Pack Soft Drink\n",
       "721     6 Pack Soft Drink\n",
       "879     6 Pack Soft Drink\n",
       "4535    6 Pack Soft Drink\n",
       "1279    6 Pack Soft Drink\n",
       "1922    6 Pack Soft Drink\n",
       "3693    6 Pack Soft Drink\n",
       "357     6 Pack Soft Drink\n",
       "2860    6 Pack Soft Drink\n",
       "1916    6 Pack Soft Drink\n",
       "3389    6 Pack Soft Drink\n",
       "4363    6 Pack Soft Drink\n",
       "3836    6 Pack Soft Drink\n",
       "4359    6 Pack Soft Drink\n",
       "3789    6 Pack Soft Drink\n",
       "4169    6 Pack Soft Drink\n",
       "2374    6 Pack Soft Drink\n",
       "3633    6 Pack Soft Drink\n",
       "417     6 Pack Soft Drink\n",
       "639     6 Pack Soft Drink\n",
       "2389    6 Pack Soft Drink\n",
       "1860    6 Pack Soft Drink\n",
       "2713    6 Pack Soft Drink\n",
       "388     6 Pack Soft Drink\n",
       "3422    6 Pack Soft Drink\n",
       "1849    6 Pack Soft Drink\n",
       "              ...        \n",
       "2996         Veggie Salad\n",
       "4084         Veggie Salad\n",
       "1694         Veggie Salad\n",
       "3471         Veggie Salad\n",
       "3163         Veggie Salad\n",
       "4109    Veggie Salad Bowl\n",
       "1884    Veggie Salad Bowl\n",
       "186     Veggie Salad Bowl\n",
       "4201    Veggie Salad Bowl\n",
       "295     Veggie Salad Bowl\n",
       "2683    Veggie Salad Bowl\n",
       "960     Veggie Salad Bowl\n",
       "4541    Veggie Salad Bowl\n",
       "455     Veggie Salad Bowl\n",
       "3293    Veggie Salad Bowl\n",
       "2223    Veggie Salad Bowl\n",
       "2269    Veggie Salad Bowl\n",
       "4261    Veggie Salad Bowl\n",
       "4573    Veggie Salad Bowl\n",
       "3223    Veggie Salad Bowl\n",
       "2156    Veggie Salad Bowl\n",
       "496     Veggie Salad Bowl\n",
       "1316    Veggie Salad Bowl\n",
       "1699    Veggie Soft Tacos\n",
       "2851    Veggie Soft Tacos\n",
       "781     Veggie Soft Tacos\n",
       "2384    Veggie Soft Tacos\n",
       "738     Veggie Soft Tacos\n",
       "3889    Veggie Soft Tacos\n",
       "1395    Veggie Soft Tacos\n",
       "Name: item_name, Length: 4507, dtype: object"
      ]
     },
     "execution_count": 117,
     "metadata": {},
     "output_type": "execute_result"
    }
   ],
   "source": [
    "chipo['item_name'].sort_values()"
   ]
  },
  {
   "cell_type": "markdown",
   "metadata": {},
   "source": [
    "### Step 7. What was the quantity of the most expensive item ordered?"
   ]
  },
  {
   "cell_type": "code",
   "execution_count": 123,
   "metadata": {},
   "outputs": [
    {
     "data": {
      "text/plain": [
       "order_id                                      1443\n",
       "quantity                                        15\n",
       "item_name             Chips and Fresh Tomato Salsa\n",
       "choice_description                             NaN\n",
       "item_price                                   44.25\n",
       "Name: 3598, dtype: object"
      ]
     },
     "execution_count": 123,
     "metadata": {},
     "output_type": "execute_result"
    }
   ],
   "source": [
    "chipo.iloc[chipo['item_price'].idxmax()]"
   ]
  },
  {
   "cell_type": "markdown",
   "metadata": {},
   "source": [
    "### Step 8. How many times was a Veggie Salad Bowl ordered?"
   ]
  },
  {
   "cell_type": "code",
   "execution_count": 129,
   "metadata": {},
   "outputs": [
    {
     "data": {
      "text/plain": [
       "order_id              18\n",
       "quantity              18\n",
       "item_name             18\n",
       "choice_description    18\n",
       "item_price            18\n",
       "dtype: int64"
      ]
     },
     "execution_count": 129,
     "metadata": {},
     "output_type": "execute_result"
    }
   ],
   "source": [
    "len(chipo[chipo['item_name']== 'Veggie Salad Bowl'])"
   ]
  },
  {
   "cell_type": "markdown",
   "metadata": {},
   "source": [
    "### Step 9. How many times did someone order more than one Canned Soda?"
   ]
  },
  {
   "cell_type": "code",
   "execution_count": 135,
   "metadata": {},
   "outputs": [
    {
     "data": {
      "text/plain": [
       "20"
      ]
     },
     "execution_count": 135,
     "metadata": {},
     "output_type": "execute_result"
    }
   ],
   "source": [
    "len(chipo[(chipo.item_name == 'Canned Soda') & (chipo.quantity > 1)])"
   ]
  },
  {
   "cell_type": "code",
   "execution_count": null,
   "metadata": {},
   "outputs": [],
   "source": []
  }
 ],
 "metadata": {
  "kernelspec": {
   "display_name": "Python 2",
   "language": "python",
   "name": "python2"
  },
  "language_info": {
   "codemirror_mode": {
    "name": "ipython",
    "version": 2
   },
   "file_extension": ".py",
   "mimetype": "text/x-python",
   "name": "python",
   "nbconvert_exporter": "python",
   "pygments_lexer": "ipython2",
   "version": "2.7.16"
  }
 },
 "nbformat": 4,
 "nbformat_minor": 1
}
